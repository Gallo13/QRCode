{
 "cells": [
  {
   "cell_type": "code",
   "execution_count": null,
   "id": "30b230e8",
   "metadata": {},
   "outputs": [],
   "source": [
    "# Created by: Jess Gallo\n",
    "# Date Created: 12/26/2022\n",
    "# Last ModifiedL 12/26/2022\n",
    "# Description: QRCode Generator for Realm.com"
   ]
  },
  {
   "cell_type": "code",
   "execution_count": null,
   "id": "fdec61ab",
   "metadata": {},
   "outputs": [],
   "source": [
    "'''\n",
    "A Quick Response code is a two-dimensional pictographic code used for its fast readability and comparatively large storage \n",
    "capacity. The code consists of black modules arranged in a square pattern on a white background. The information encoded can \n",
    "be made up of any kind of data (e.g., binary, alphanumeric, or Kanji symbols)\n",
    "'''"
   ]
  },
  {
   "cell_type": "code",
   "execution_count": 96,
   "id": "0da1ce17",
   "metadata": {},
   "outputs": [],
   "source": [
    "# Libraries\n",
    "import qrcode\n",
    "# import qrcode.image.svg\n",
    "from PIL import Image"
   ]
  },
  {
   "cell_type": "code",
   "execution_count": 97,
   "id": "8749fce0",
   "metadata": {},
   "outputs": [],
   "source": [
    "# website: https://linktr.ee/rewanabbas"
   ]
  },
  {
   "cell_type": "code",
   "execution_count": 98,
   "id": "3ca47713",
   "metadata": {},
   "outputs": [],
   "source": [
    "# Image\n",
    "\n",
    "logo_link = \"C://Users//Gallo//Downloads//RewanAbbasRealmLogoResized.jpg\"\n",
    "\n",
    "logo = Image.open(logo_link)\n",
    "\n",
    "# taking base width\n",
    "basewidth = 150\n",
    "\n",
    "# adjust image size\n",
    "wpercent = (basewidth/float(logo.size[0]))\n",
    "hsize = int((float(logo.size[1])*float(wpercent)))\n",
    "logo = logo.resize((basewidth, hsize), Image.ANTIALIAS)\n"
   ]
  },
  {
   "cell_type": "code",
   "execution_count": 99,
   "id": "f95a9cae",
   "metadata": {},
   "outputs": [],
   "source": [
    "qr = qrcode.QRCode(\n",
    "    version=1,  # int from 1-40 - controls size\n",
    "    error_correction=qrcode.constants.ERROR_CORRECT_H,  # controls error correction\n",
    "    box_size=10,  # how many pixels each box of QR code is\n",
    "    border=4,  # how many boxes thick the border is (4 = default and min)\n",
    "    #image_factory=qrcode.image.svg.SvgPathImage\n",
    ")\n",
    "\n",
    "'''\n",
    "ERROR_CORRECT_L = about 7% or less errors can be correct\n",
    "ERROR_CORRECT_M = default - about 15% or less errors can be corrected\n",
    "ERROR_CORRECT_Q = about 25% or less errors can be corrected\n",
    "ERROR_CORRECT_H = about 30% or less errors can be corrected\n",
    "'''\n",
    "# take url\n",
    "url = 'https://linktr.ee/rewanabbas'\n",
    "\n",
    "# add url to QRcode\n",
    "qr.add_data(url)\n",
    "\n",
    "# generate QRcode\n",
    "qr.make(fit=True)  #ensures entire dimension of QR code is utilized\n",
    "\n",
    "# img = qr.make_image(fill_color=\"black\", back_color=\"white\")  #RGB (255, 195, 235)\n",
    "\n",
    "# razzle dazzle rose\n",
    "qr_color = (255, 51, 204)\n",
    "img = qr.make_image(fill_color=qr_color, back_color=(255,255,255))\n",
    "\n",
    "# set size of QR code\n",
    "pos = ((img.size[0] - logo.size[0]) // 2,\n",
    "       (img.size[1] - logo.size[1]) // 2)\n",
    "img.paste(logo, pos)"
   ]
  },
  {
   "cell_type": "code",
   "execution_count": 100,
   "id": "d4ea1878",
   "metadata": {},
   "outputs": [],
   "source": [
    "# save QR code\n",
    "img.save('RealmLinkTreeQR.png')"
   ]
  },
  {
   "cell_type": "code",
   "execution_count": null,
   "id": "ab93aa49",
   "metadata": {},
   "outputs": [],
   "source": []
  }
 ],
 "metadata": {
  "kernelspec": {
   "display_name": "Python [conda env:GPUenv] *",
   "language": "python",
   "name": "conda-env-GPUenv-py"
  },
  "language_info": {
   "codemirror_mode": {
    "name": "ipython",
    "version": 3
   },
   "file_extension": ".py",
   "mimetype": "text/x-python",
   "name": "python",
   "nbconvert_exporter": "python",
   "pygments_lexer": "ipython3",
   "version": "3.8.11"
  }
 },
 "nbformat": 4,
 "nbformat_minor": 5
}
